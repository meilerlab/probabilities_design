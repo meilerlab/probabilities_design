{
 "cells": [
  {
   "cell_type": "code",
   "execution_count": 1,
   "metadata": {},
   "outputs": [],
   "source": [
    "import math"
   ]
  },
  {
   "cell_type": "code",
   "execution_count": 2,
   "metadata": {
    "tags": []
   },
   "outputs": [],
   "source": [
    "import os\n",
    "import numpy as np\n",
    "import pandas as pd\n",
    "from sklearn.ensemble import RandomForestRegressor\n",
    "from sklearn.preprocessing import OneHotEncoder\n",
    "from sklearn.model_selection import train_test_split\n",
    "from sklearn.metrics import mean_squared_error\n",
    "from sklearn.linear_model import Ridge\n",
    "import matplotlib.pyplot as plt\n",
    "import seaborn as sns\n",
    "from scipy.stats import spearmanr\n",
    "from sklearn import svm\n",
    "from joblib import dump, load\n",
    "from imblearn.over_sampling import RandomOverSampler\n",
    "from sklearn.discriminant_analysis import LinearDiscriminantAnalysis\n",
    "from sklearn.metrics import accuracy_score, matthews_corrcoef"
   ]
  },
  {
   "cell_type": "code",
   "execution_count": 3,
   "metadata": {},
   "outputs": [],
   "source": [
    "RANDOM_STATE = 42"
   ]
  },
  {
   "cell_type": "code",
   "execution_count": 4,
   "metadata": {
    "tags": []
   },
   "outputs": [],
   "source": [
    "def one_hot_encode_sequences(df, column_name):\n",
    "    # Define a mapping from amino acids to integers\n",
    "    amino_acids = 'ACDEFGHIKLMNPQRSTVWY'\n",
    "    amino_acid_to_int = {aa: i for i, aa in enumerate(amino_acids)}\n",
    "    num_amino_acids = len(amino_acids)\n",
    "\n",
    "    encoded_sequences = []\n",
    "\n",
    "    for sequence in df[column_name]:\n",
    "        # Initialize a matrix of zeros\n",
    "        encoded_matrix = np.zeros((len(sequence), num_amino_acids), dtype=int)\n",
    "\n",
    "        for i, aa in enumerate(sequence):\n",
    "            if aa in amino_acid_to_int:\n",
    "                # Set the corresponding column to 1\n",
    "                encoded_matrix[i, amino_acid_to_int[aa]] = 1\n",
    "            else:\n",
    "                raise ValueError(f\"Invalid amino acid '{aa}' found in sequence.\")\n",
    "\n",
    "        encoded_sequences.append(encoded_matrix)\n",
    "\n",
    "    return encoded_sequences"
   ]
  },
  {
   "cell_type": "markdown",
   "metadata": {},
   "source": [
    "# GFP"
   ]
  },
  {
   "cell_type": "code",
   "execution_count": 5,
   "metadata": {
    "tags": []
   },
   "outputs": [],
   "source": [
    "df_GFP = pd.read_csv('gfp/gfp_data.csv')"
   ]
  },
  {
   "cell_type": "code",
   "execution_count": 6,
   "metadata": {},
   "outputs": [
    {
     "data": {
      "text/html": [
       "<div>\n",
       "<style scoped>\n",
       "    .dataframe tbody tr th:only-of-type {\n",
       "        vertical-align: middle;\n",
       "    }\n",
       "\n",
       "    .dataframe tbody tr th {\n",
       "        vertical-align: top;\n",
       "    }\n",
       "\n",
       "    .dataframe thead th {\n",
       "        text-align: right;\n",
       "    }\n",
       "</style>\n",
       "<table border=\"1\" class=\"dataframe\">\n",
       "  <thead>\n",
       "    <tr style=\"text-align: right;\">\n",
       "      <th></th>\n",
       "      <th>Sequence</th>\n",
       "      <th>Description</th>\n",
       "      <th>Ligand</th>\n",
       "      <th>Data</th>\n",
       "      <th>Units</th>\n",
       "      <th>Assay/Protocol</th>\n",
       "    </tr>\n",
       "  </thead>\n",
       "  <tbody>\n",
       "    <tr>\n",
       "      <th>0</th>\n",
       "      <td>MSEGEELFAGVVPILVELDGDVNGHKFSVSGEGEGDATYGKLTLKF...</td>\n",
       "      <td>K1E+T7A+V53E+M231K</td>\n",
       "      <td>NaN</td>\n",
       "      <td>1.301</td>\n",
       "      <td>unitless</td>\n",
       "      <td>Brightness</td>\n",
       "    </tr>\n",
       "    <tr>\n",
       "      <th>1</th>\n",
       "      <td>MSEGEELFAGVVPILVELDGDVNGHKFSVSGEGEGDATYGKLTLKF...</td>\n",
       "      <td>K1E+T7A+M76L+M231T</td>\n",
       "      <td>NaN</td>\n",
       "      <td>3.702</td>\n",
       "      <td>unitless</td>\n",
       "      <td>Brightness</td>\n",
       "    </tr>\n",
       "    <tr>\n",
       "      <th>2</th>\n",
       "      <td>MSEGEELFAGVVPILVELDGDVNGHKFSVSGEGEGDATYGKLTLKF...</td>\n",
       "      <td>K1E+T7A+N133D</td>\n",
       "      <td>NaN</td>\n",
       "      <td>3.689</td>\n",
       "      <td>unitless</td>\n",
       "      <td>Brightness</td>\n",
       "    </tr>\n",
       "    <tr>\n",
       "      <th>3</th>\n",
       "      <td>MSEGEELFPGVVPILVELDGDVNGHKFSVSGEGEGDATYGKLTPKF...</td>\n",
       "      <td>K1E+T7P+L42P+Y180N+T184S+A204T</td>\n",
       "      <td>NaN</td>\n",
       "      <td>1.301</td>\n",
       "      <td>unitless</td>\n",
       "      <td>Brightness</td>\n",
       "    </tr>\n",
       "    <tr>\n",
       "      <th>4</th>\n",
       "      <td>MSEGEELFSGVVPILVELDGDVNGHKFSVSGEGEGDATYGKLTLKF...</td>\n",
       "      <td>K1E+T7S+F98Y+K154R+E170G</td>\n",
       "      <td>NaN</td>\n",
       "      <td>3.647</td>\n",
       "      <td>unitless</td>\n",
       "      <td>Brightness</td>\n",
       "    </tr>\n",
       "  </tbody>\n",
       "</table>\n",
       "</div>"
      ],
      "text/plain": [
       "                                            Sequence  \\\n",
       "0  MSEGEELFAGVVPILVELDGDVNGHKFSVSGEGEGDATYGKLTLKF...   \n",
       "1  MSEGEELFAGVVPILVELDGDVNGHKFSVSGEGEGDATYGKLTLKF...   \n",
       "2  MSEGEELFAGVVPILVELDGDVNGHKFSVSGEGEGDATYGKLTLKF...   \n",
       "3  MSEGEELFPGVVPILVELDGDVNGHKFSVSGEGEGDATYGKLTPKF...   \n",
       "4  MSEGEELFSGVVPILVELDGDVNGHKFSVSGEGEGDATYGKLTLKF...   \n",
       "\n",
       "                      Description  Ligand   Data     Units Assay/Protocol  \n",
       "0              K1E+T7A+V53E+M231K     NaN  1.301  unitless     Brightness  \n",
       "1              K1E+T7A+M76L+M231T     NaN  3.702  unitless     Brightness  \n",
       "2                   K1E+T7A+N133D     NaN  3.689  unitless     Brightness  \n",
       "3  K1E+T7P+L42P+Y180N+T184S+A204T     NaN  1.301  unitless     Brightness  \n",
       "4        K1E+T7S+F98Y+K154R+E170G     NaN  3.647  unitless     Brightness  "
      ]
     },
     "execution_count": 6,
     "metadata": {},
     "output_type": "execute_result"
    }
   ],
   "source": [
    "df_GFP.head()"
   ]
  },
  {
   "cell_type": "code",
   "execution_count": 8,
   "metadata": {},
   "outputs": [],
   "source": [
    "# GFP sequence and truncated version to match structure/dataset\n",
    "wt = 'MSKGEELFTGVVPILVELDGDVNGHKFSVSGEGEGDATYGKLTLKFICTTGKLPVPWPTLVTTLSYGVQCFSRYPDHMKQHDFFKSAMPEGYVQERTIFFKDDGNYKTRAEVKFEGDTLVNRIELKGIDFKEDGNILGHKLEYNYNSHNVYIMADKQKNGIKVNFKIRHNIEDGSVQLADHYQQNTPIGDGPVLLPDNHYLSTQSALSKDPNEKRDHMVLLEFVTAAGITHGMDELYK'\n",
    "wt_trunc = 'KGEELFTGVVPILVELDGDVNGHKFSVSGEGEGDATYGKLTLKFICTTGKLPVPWPTLVTTLSYGVQCFSRYPDHMKQHDFFKSAMPEGYVQERTIFFKDDGNYKTRAEVKFEGDTLVNRIELKGIDFKEDGNILGHKLEYNYNSHNVYIMADKQKNGIKVNFKIRHNIEDGSVQLADHYQQNTPIGDGPVLLPDNHYLSTQSALSKDPNEKRDHMVLLEFVTAAGITHGMDELYK'\n"
   ]
  },
  {
   "cell_type": "code",
   "execution_count": 9,
   "metadata": {},
   "outputs": [],
   "source": [
    "# Function to parse mutations and count\n",
    "def count_mutations(df, wt_sequence):\n",
    "    # Initialize a dictionary to count mutations\n",
    "    mutation_count = {i: 0 for i in range(1, len(wt_sequence) + 1)}\n",
    "\n",
    "    # Iterate over each row in the DataFrame\n",
    "    for index, row in df.iterrows():\n",
    "        # Split the mutations by '+'\n",
    "        mutations = row['Description'].split('+')\n",
    "\n",
    "        # Iterate over each mutation\n",
    "        for mutation in mutations:\n",
    "            # Extract the position and compare with wildtype\n",
    "            position = int(''.join(filter(str.isdigit, mutation)))\n",
    "            wt_amino_acid = wt_sequence[position - 1]\n",
    "            mut_amino_acid = mutation[-1]\n",
    "\n",
    "            # Check if mutation is different from wildtype\n",
    "            if wt_amino_acid != mut_amino_acid:\n",
    "                mutation_count[position] += 1\n",
    "\n",
    "    return mutation_count\n",
    "\n",
    "# Count the mutations\n",
    "mutation_counts = count_mutations(df_GFP, wt_trunc)"
   ]
  },
  {
   "cell_type": "code",
   "execution_count": 10,
   "metadata": {},
   "outputs": [
    {
     "data": {
      "text/plain": [
       "[117, 118, 236]"
      ]
     },
     "execution_count": 10,
     "metadata": {},
     "output_type": "execute_result"
    }
   ],
   "source": [
    "# Extract positions with zero mutations, we keep those fixed during design as we have no information on them\n",
    "zero_mutation_positions = [position for position, count in mutation_counts.items() if count == 0]\n",
    "\n",
    "# Print the positions with zero mutations\n",
    "zero_mutation_positions\n",
    "\n"
   ]
  },
  {
   "cell_type": "code",
   "execution_count": 11,
   "metadata": {
    "tags": []
   },
   "outputs": [],
   "source": [
    "# one hot encode\n",
    "df_GFP['encoded'] = one_hot_encode_sequences(df_GFP, 'Sequence')\n",
    "# Flatten the encoded sequence\n",
    "df_GFP['Flattened_Encoded'] = df_GFP['encoded'].apply(lambda x: x.flatten())\n",
    "# Create a feature matrix X and target vector y\n",
    "X = np.stack(df_GFP['Flattened_Encoded'].values)\n",
    "y = df_GFP['Data'].values"
   ]
  },
  {
   "cell_type": "code",
   "execution_count": 12,
   "metadata": {
    "tags": []
   },
   "outputs": [],
   "source": [
    "# Split the data into training and testing sets\n",
    "X_train, X_test, y_train, y_test = train_test_split(X, y, test_size=0.1, random_state=RANDOM_STATE)"
   ]
  },
  {
   "cell_type": "code",
   "execution_count": 13,
   "metadata": {
    "scrolled": true,
    "tags": []
   },
   "outputs": [
    {
     "data": {
      "text/plain": [
       "Ridge(max_iter=1000000, solver='lsqr', tol=0.0001)"
      ]
     },
     "execution_count": 13,
     "metadata": {},
     "output_type": "execute_result"
    }
   ],
   "source": [
    "model = Ridge(alpha=1.0, solver='lsqr', tol=1e-4, max_iter=1000000)\n",
    "model.fit(X_train, y_train)"
   ]
  },
  {
   "cell_type": "code",
   "execution_count": 16,
   "metadata": {
    "tags": []
   },
   "outputs": [
    {
     "name": "stdout",
     "output_type": "stream",
     "text": [
      "Spearman Correlation: 0.7676194831322991\n"
     ]
    }
   ],
   "source": [
    "# Predict on the test set\n",
    "y_pred = model.predict(X_test)\n",
    "spearman_corr, p_value = spearmanr(y_pred, y_test)\n",
    "print(\"Spearman Correlation:\", spearman_corr)"
   ]
  },
  {
   "cell_type": "code",
   "execution_count": 40,
   "metadata": {},
   "outputs": [
    {
     "data": {
      "text/plain": [
       "['gfp/gfp_ridge.joblib']"
      ]
     },
     "execution_count": 40,
     "metadata": {},
     "output_type": "execute_result"
    }
   ],
   "source": [
    "dump(model, 'gfp/gfp_ridge.joblib') # save model for later use (also provided as file in the repo)"
   ]
  },
  {
   "cell_type": "markdown",
   "metadata": {},
   "source": [
    "# GB1"
   ]
  },
  {
   "cell_type": "code",
   "execution_count": 21,
   "metadata": {},
   "outputs": [
    {
     "name": "stderr",
     "output_type": "stream",
     "text": [
      "/home/iwe3/anaconda3/envs/PyRosetta.notebooks/lib/python3.7/site-packages/IPython/core/interactiveshell.py:3146: DtypeWarning: Columns (8,10,12) have mixed types.Specify dtype option on import or set low_memory=False.\n",
      "  interactivity=interactivity, compiler=compiler, result=result)\n"
     ]
    }
   ],
   "source": [
    "df_GB1 = pd.read_csv('gb1/gb1_mutations_full_data.csv')"
   ]
  },
  {
   "cell_type": "code",
   "execution_count": 22,
   "metadata": {},
   "outputs": [
    {
     "data": {
      "text/html": [
       "<div>\n",
       "<style scoped>\n",
       "    .dataframe tbody tr th:only-of-type {\n",
       "        vertical-align: middle;\n",
       "    }\n",
       "\n",
       "    .dataframe tbody tr th {\n",
       "        vertical-align: top;\n",
       "    }\n",
       "\n",
       "    .dataframe thead th {\n",
       "        text-align: right;\n",
       "    }\n",
       "</style>\n",
       "<table border=\"1\" class=\"dataframe\">\n",
       "  <thead>\n",
       "    <tr style=\"text-align: right;\">\n",
       "      <th></th>\n",
       "      <th>Variants</th>\n",
       "      <th>HD</th>\n",
       "      <th>Count input</th>\n",
       "      <th>Count selected</th>\n",
       "      <th>Fitness</th>\n",
       "      <th>sequence</th>\n",
       "      <th>keep</th>\n",
       "      <th>one_vs_rest</th>\n",
       "      <th>one_vs_rest_validation</th>\n",
       "      <th>two_vs_rest</th>\n",
       "      <th>two_vs_rest_validation</th>\n",
       "      <th>three_vs_rest</th>\n",
       "      <th>three_vs_rest_validation</th>\n",
       "      <th>sampled</th>\n",
       "      <th>sampled_validation</th>\n",
       "      <th>low_vs_high</th>\n",
       "      <th>low_vs_high_validation</th>\n",
       "    </tr>\n",
       "  </thead>\n",
       "  <tbody>\n",
       "    <tr>\n",
       "      <th>0</th>\n",
       "      <td>VDGV</td>\n",
       "      <td>0</td>\n",
       "      <td>92735</td>\n",
       "      <td>338346</td>\n",
       "      <td>1.000000</td>\n",
       "      <td>MQYKLILNGKTLKGETTTEAVDAATAEKVFKQYANDNGVDGEWTYD...</td>\n",
       "      <td>True</td>\n",
       "      <td>train</td>\n",
       "      <td>NaN</td>\n",
       "      <td>train</td>\n",
       "      <td>NaN</td>\n",
       "      <td>train</td>\n",
       "      <td>NaN</td>\n",
       "      <td>train</td>\n",
       "      <td>NaN</td>\n",
       "      <td>test</td>\n",
       "      <td>NaN</td>\n",
       "    </tr>\n",
       "    <tr>\n",
       "      <th>1</th>\n",
       "      <td>ADGV</td>\n",
       "      <td>1</td>\n",
       "      <td>34</td>\n",
       "      <td>43</td>\n",
       "      <td>0.061910</td>\n",
       "      <td>MQYKLILNGKTLKGETTTEAVDAATAEKVFKQYANDNGADGEWTYD...</td>\n",
       "      <td>False</td>\n",
       "      <td>NaN</td>\n",
       "      <td>NaN</td>\n",
       "      <td>NaN</td>\n",
       "      <td>NaN</td>\n",
       "      <td>NaN</td>\n",
       "      <td>NaN</td>\n",
       "      <td>NaN</td>\n",
       "      <td>NaN</td>\n",
       "      <td>NaN</td>\n",
       "      <td>NaN</td>\n",
       "    </tr>\n",
       "    <tr>\n",
       "      <th>2</th>\n",
       "      <td>CDGV</td>\n",
       "      <td>1</td>\n",
       "      <td>850</td>\n",
       "      <td>641</td>\n",
       "      <td>0.242237</td>\n",
       "      <td>MQYKLILNGKTLKGETTTEAVDAATAEKVFKQYANDNGCDGEWTYD...</td>\n",
       "      <td>False</td>\n",
       "      <td>NaN</td>\n",
       "      <td>NaN</td>\n",
       "      <td>NaN</td>\n",
       "      <td>NaN</td>\n",
       "      <td>NaN</td>\n",
       "      <td>NaN</td>\n",
       "      <td>NaN</td>\n",
       "      <td>NaN</td>\n",
       "      <td>NaN</td>\n",
       "      <td>NaN</td>\n",
       "    </tr>\n",
       "    <tr>\n",
       "      <th>3</th>\n",
       "      <td>DDGV</td>\n",
       "      <td>1</td>\n",
       "      <td>63</td>\n",
       "      <td>63</td>\n",
       "      <td>0.006472</td>\n",
       "      <td>MQYKLILNGKTLKGETTTEAVDAATAEKVFKQYANDNGDDGEWTYD...</td>\n",
       "      <td>False</td>\n",
       "      <td>NaN</td>\n",
       "      <td>NaN</td>\n",
       "      <td>NaN</td>\n",
       "      <td>NaN</td>\n",
       "      <td>NaN</td>\n",
       "      <td>NaN</td>\n",
       "      <td>NaN</td>\n",
       "      <td>NaN</td>\n",
       "      <td>NaN</td>\n",
       "      <td>NaN</td>\n",
       "    </tr>\n",
       "    <tr>\n",
       "      <th>4</th>\n",
       "      <td>EDGV</td>\n",
       "      <td>1</td>\n",
       "      <td>841</td>\n",
       "      <td>190</td>\n",
       "      <td>0.032719</td>\n",
       "      <td>MQYKLILNGKTLKGETTTEAVDAATAEKVFKQYANDNGEDGEWTYD...</td>\n",
       "      <td>False</td>\n",
       "      <td>NaN</td>\n",
       "      <td>NaN</td>\n",
       "      <td>NaN</td>\n",
       "      <td>NaN</td>\n",
       "      <td>NaN</td>\n",
       "      <td>NaN</td>\n",
       "      <td>NaN</td>\n",
       "      <td>NaN</td>\n",
       "      <td>NaN</td>\n",
       "      <td>NaN</td>\n",
       "    </tr>\n",
       "  </tbody>\n",
       "</table>\n",
       "</div>"
      ],
      "text/plain": [
       "  Variants  HD  Count input  Count selected   Fitness  \\\n",
       "0     VDGV   0        92735          338346  1.000000   \n",
       "1     ADGV   1           34              43  0.061910   \n",
       "2     CDGV   1          850             641  0.242237   \n",
       "3     DDGV   1           63              63  0.006472   \n",
       "4     EDGV   1          841             190  0.032719   \n",
       "\n",
       "                                            sequence   keep one_vs_rest  \\\n",
       "0  MQYKLILNGKTLKGETTTEAVDAATAEKVFKQYANDNGVDGEWTYD...   True       train   \n",
       "1  MQYKLILNGKTLKGETTTEAVDAATAEKVFKQYANDNGADGEWTYD...  False         NaN   \n",
       "2  MQYKLILNGKTLKGETTTEAVDAATAEKVFKQYANDNGCDGEWTYD...  False         NaN   \n",
       "3  MQYKLILNGKTLKGETTTEAVDAATAEKVFKQYANDNGDDGEWTYD...  False         NaN   \n",
       "4  MQYKLILNGKTLKGETTTEAVDAATAEKVFKQYANDNGEDGEWTYD...  False         NaN   \n",
       "\n",
       "  one_vs_rest_validation two_vs_rest two_vs_rest_validation three_vs_rest  \\\n",
       "0                    NaN       train                    NaN         train   \n",
       "1                    NaN         NaN                    NaN           NaN   \n",
       "2                    NaN         NaN                    NaN           NaN   \n",
       "3                    NaN         NaN                    NaN           NaN   \n",
       "4                    NaN         NaN                    NaN           NaN   \n",
       "\n",
       "  three_vs_rest_validation sampled sampled_validation low_vs_high  \\\n",
       "0                      NaN   train                NaN        test   \n",
       "1                      NaN     NaN                NaN         NaN   \n",
       "2                      NaN     NaN                NaN         NaN   \n",
       "3                      NaN     NaN                NaN         NaN   \n",
       "4                      NaN     NaN                NaN         NaN   \n",
       "\n",
       "  low_vs_high_validation  \n",
       "0                    NaN  \n",
       "1                    NaN  \n",
       "2                    NaN  \n",
       "3                    NaN  \n",
       "4                    NaN  "
      ]
     },
     "execution_count": 22,
     "metadata": {},
     "output_type": "execute_result"
    }
   ],
   "source": [
    "df_GB1.head()"
   ]
  },
  {
   "cell_type": "markdown",
   "metadata": {},
   "source": [
    "### here the keep variable is used to balance the dataset, as most mutations destroy fitness as seen in the boxplot below"
   ]
  },
  {
   "cell_type": "code",
   "execution_count": 24,
   "metadata": {},
   "outputs": [
    {
     "data": {
      "text/plain": [
       "<matplotlib.axes._subplots.AxesSubplot at 0x7f2833ae0c10>"
      ]
     },
     "execution_count": 24,
     "metadata": {},
     "output_type": "execute_result"
    },
    {
     "data": {
      "image/png": "[encoded data removed]",
      "text/plain": [
       "<Figure size 432x288 with 1 Axes>"
      ]
     },
     "metadata": {
      "needs_background": "light"
     },
     "output_type": "display_data"
    }
   ],
   "source": [
    "sns.boxplot(df_GB1.Fitness)"
   ]
  },
  {
   "cell_type": "code",
   "execution_count": 25,
   "metadata": {},
   "outputs": [
    {
     "data": {
      "text/plain": [
       "<matplotlib.axes._subplots.AxesSubplot at 0x7f284ca20410>"
      ]
     },
     "execution_count": 25,
     "metadata": {},
     "output_type": "execute_result"
    },
    {
     "data": {
      "image/png": "[encoded data removed]",
      "text/plain": [
       "<Figure size 432x288 with 1 Axes>"
      ]
     },
     "metadata": {
      "needs_background": "light"
     },
     "output_type": "display_data"
    }
   ],
   "source": [
    "sns.boxplot(df_GB1[df_GB1.keep == True].Fitness)"
   ]
  },
  {
   "cell_type": "code",
   "execution_count": 26,
   "metadata": {},
   "outputs": [
    {
     "name": "stdout",
     "output_type": "stream",
     "text": [
      "8733\n",
      "149361\n"
     ]
    }
   ],
   "source": [
    "print(len(df_GB1[df_GB1.keep == True]))\n",
    "print(len(df_GB1))"
   ]
  },
  {
   "cell_type": "code",
   "execution_count": 27,
   "metadata": {},
   "outputs": [],
   "source": [
    "df_GB1 = df_GB1[df_GB1.keep == True].copy()"
   ]
  },
  {
   "cell_type": "code",
   "execution_count": 28,
   "metadata": {},
   "outputs": [],
   "source": [
    "df_GB1['trunc_seq'] = df_GB1['sequence'].apply(lambda seq: 'MTYKLIL'+seq[7:56]) # truncate it to the PDB sequence\n",
    "df_GB1['encoded'] = one_hot_encode_sequences(df_GB1, 'trunc_seq')\n",
    "df_GB1['Flattened_Encoded'] = df_GB1['encoded'].apply(lambda x: x.flatten())"
   ]
  },
  {
   "cell_type": "code",
   "execution_count": 29,
   "metadata": {},
   "outputs": [],
   "source": [
    "# Create a feature matrix X and target vector y\n",
    "X = np.stack(df_GB1['Flattened_Encoded'].values)\n",
    "y = df_GB1['Fitness'].values"
   ]
  },
  {
   "cell_type": "code",
   "execution_count": 30,
   "metadata": {},
   "outputs": [],
   "source": [
    "X_train, X_test, y_train, y_test = train_test_split(X, y, test_size=0.1, random_state=RANDOM_STATE)"
   ]
  },
  {
   "cell_type": "code",
   "execution_count": 31,
   "metadata": {},
   "outputs": [
    {
     "data": {
      "text/plain": [
       "Ridge(max_iter=1000000, solver='lsqr', tol=0.0001)"
      ]
     },
     "execution_count": 31,
     "metadata": {},
     "output_type": "execute_result"
    }
   ],
   "source": [
    "model = Ridge(alpha=1.0, solver='lsqr', tol=1e-4, max_iter=1000000)\n",
    "model.fit(X_train, y_train)"
   ]
  },
  {
   "cell_type": "code",
   "execution_count": 32,
   "metadata": {},
   "outputs": [],
   "source": [
    "y_pred = model.predict(X_test)"
   ]
  },
  {
   "cell_type": "code",
   "execution_count": 33,
   "metadata": {},
   "outputs": [
    {
     "name": "stdout",
     "output_type": "stream",
     "text": [
      "Spearman Correlation: 0.8098051820702165\n",
      "P-value: 3.810811979116243e-204\n"
     ]
    }
   ],
   "source": [
    "# Evaluate the model\n",
    "spearman_corr, p_value = spearmanr(y_pred, y_test)\n",
    "print(\"Spearman Correlation:\", spearman_corr)\n",
    "print(\"P-value:\", p_value)"
   ]
  },
  {
   "cell_type": "code",
   "execution_count": 115,
   "metadata": {},
   "outputs": [
    {
     "data": {
      "text/plain": [
       "['gb1/gb1_ridge.joblib']"
      ]
     },
     "execution_count": 115,
     "metadata": {},
     "output_type": "execute_result"
    }
   ],
   "source": [
    "dump(model, 'gb1/gb1_ridge.joblib') # save the model (already provided in github repo as well)"
   ]
  },
  {
   "cell_type": "markdown",
   "metadata": {},
   "source": [
    "# Emi"
   ]
  },
  {
   "cell_type": "code",
   "execution_count": 34,
   "metadata": {},
   "outputs": [
    {
     "data": {
      "text/html": [
       "<div>\n",
       "<style scoped>\n",
       "    .dataframe tbody tr th:only-of-type {\n",
       "        vertical-align: middle;\n",
       "    }\n",
       "\n",
       "    .dataframe tbody tr th {\n",
       "        vertical-align: top;\n",
       "    }\n",
       "\n",
       "    .dataframe thead th {\n",
       "        text-align: right;\n",
       "    }\n",
       "</style>\n",
       "<table border=\"1\" class=\"dataframe\">\n",
       "  <thead>\n",
       "    <tr style=\"text-align: right;\">\n",
       "      <th></th>\n",
       "      <th>VH Sequence</th>\n",
       "      <th>ANT Binding</th>\n",
       "      <th>OVA Binding</th>\n",
       "      <th>pI_seq</th>\n",
       "    </tr>\n",
       "  </thead>\n",
       "  <tbody>\n",
       "    <tr>\n",
       "      <th>0</th>\n",
       "      <td>QVQLVQSGAEVKKPGASVKVSCKASGYTFTDYYMHWVRQAPGQGLE...</td>\n",
       "      <td>0</td>\n",
       "      <td>1</td>\n",
       "      <td>8.64</td>\n",
       "    </tr>\n",
       "    <tr>\n",
       "      <th>1</th>\n",
       "      <td>QVQLVQSGAEVKKPGASVKVSCKASGYTFTDYYMHWVRQAPGQGLE...</td>\n",
       "      <td>1</td>\n",
       "      <td>1</td>\n",
       "      <td>8.96</td>\n",
       "    </tr>\n",
       "    <tr>\n",
       "      <th>2</th>\n",
       "      <td>QVQLVQSGAEVKKPGASVKVSCKASGYTFTDYFMHWVRQAPGQGLE...</td>\n",
       "      <td>0</td>\n",
       "      <td>1</td>\n",
       "      <td>7.96</td>\n",
       "    </tr>\n",
       "    <tr>\n",
       "      <th>3</th>\n",
       "      <td>QVQLVQSGAEVKKPGASVKVSCKASGYTFTDYSMHWVRQAPGQGLE...</td>\n",
       "      <td>1</td>\n",
       "      <td>1</td>\n",
       "      <td>8.60</td>\n",
       "    </tr>\n",
       "    <tr>\n",
       "      <th>4</th>\n",
       "      <td>QVQLVQSGAEVKKPGASVKVSCKASGYTFTDYFMHWVRQAPGQGLE...</td>\n",
       "      <td>0</td>\n",
       "      <td>1</td>\n",
       "      <td>7.96</td>\n",
       "    </tr>\n",
       "  </tbody>\n",
       "</table>\n",
       "</div>"
      ],
      "text/plain": [
       "                                         VH Sequence  ANT Binding  \\\n",
       "0  QVQLVQSGAEVKKPGASVKVSCKASGYTFTDYYMHWVRQAPGQGLE...            0   \n",
       "1  QVQLVQSGAEVKKPGASVKVSCKASGYTFTDYYMHWVRQAPGQGLE...            1   \n",
       "2  QVQLVQSGAEVKKPGASVKVSCKASGYTFTDYFMHWVRQAPGQGLE...            0   \n",
       "3  QVQLVQSGAEVKKPGASVKVSCKASGYTFTDYSMHWVRQAPGQGLE...            1   \n",
       "4  QVQLVQSGAEVKKPGASVKVSCKASGYTFTDYFMHWVRQAPGQGLE...            0   \n",
       "\n",
       "   OVA Binding  pI_seq  \n",
       "0            1    8.64  \n",
       "1            1    8.96  \n",
       "2            1    7.96  \n",
       "3            1    8.60  \n",
       "4            1    7.96  "
      ]
     },
     "execution_count": 34,
     "metadata": {},
     "output_type": "execute_result"
    }
   ],
   "source": [
    "df_emi = pd.read_csv('emi/emi_binding.csv')\n",
    "df_emi.head()"
   ]
  },
  {
   "cell_type": "code",
   "execution_count": 35,
   "metadata": {},
   "outputs": [],
   "source": [
    "df_emi['encoded'] = one_hot_encode_sequences(df_emi, 'VH Sequence')\n",
    "df_emi['Flattened_Encoded'] = df_emi['encoded'].apply(lambda x: x.flatten())"
   ]
  },
  {
   "cell_type": "code",
   "execution_count": 36,
   "metadata": {},
   "outputs": [],
   "source": [
    "wt = 'QVQLVQSGAEVKKPGASVKVSCKASGYTFTDYYMHWVRQAPGQGLEWMGRVNPNRRGTTYNQKFEGRVTMTTDTSTSTAYMELRSLRSDDTAVYYCARANWLDYWGQGTTVTVSS'"
   ]
  },
  {
   "cell_type": "code",
   "execution_count": 37,
   "metadata": {},
   "outputs": [],
   "source": [
    "# Create a feature matrix X and target vector y\n",
    "X = np.stack(df_emi['Flattened_Encoded'].values)\n",
    "y = df_emi[['ANT Binding', 'OVA Binding']].values\n",
    "X_train, X_test, y_train, y_test = train_test_split(X, y, test_size=0.1, random_state=RANDOM_STATE)"
   ]
  },
  {
   "cell_type": "code",
   "execution_count": 38,
   "metadata": {},
   "outputs": [
    {
     "data": {
      "text/plain": [
       "LinearDiscriminantAnalysis()"
      ]
     },
     "execution_count": 38,
     "metadata": {},
     "output_type": "execute_result"
    }
   ],
   "source": [
    "lda_ANT = LinearDiscriminantAnalysis()\n",
    "lda_ANT.fit(X_train, y_train[:,0])"
   ]
  },
  {
   "cell_type": "code",
   "execution_count": 39,
   "metadata": {},
   "outputs": [
    {
     "name": "stdout",
     "output_type": "stream",
     "text": [
      "accuracy: 0.9375 mcc: 0.8732685075504191\n"
     ]
    }
   ],
   "source": [
    "y_pred = lda_ANT.predict(X_test)\n",
    "accuracy = accuracy_score(y_test[:,0], y_pred)\n",
    "mcc = matthews_corrcoef(y_test[:,0], y_pred)\n",
    "print('accuracy:', accuracy, 'mcc:', mcc)"
   ]
  },
  {
   "cell_type": "code",
   "execution_count": 40,
   "metadata": {},
   "outputs": [
    {
     "data": {
      "text/plain": [
       "LinearDiscriminantAnalysis()"
      ]
     },
     "execution_count": 40,
     "metadata": {},
     "output_type": "execute_result"
    }
   ],
   "source": [
    "lda_OVA = LinearDiscriminantAnalysis()\n",
    "lda_OVA.fit(X_train, y_train[:,1])"
   ]
  },
  {
   "cell_type": "code",
   "execution_count": 41,
   "metadata": {},
   "outputs": [
    {
     "name": "stdout",
     "output_type": "stream",
     "text": [
      "accuracy: 0.8 mcc: 0.6116929043145599\n"
     ]
    }
   ],
   "source": [
    "y_pred = lda_ANT.predict(X_test)\n",
    "accuracy = accuracy_score(y_test[:,1], y_pred)\n",
    "mcc = matthews_corrcoef(y_test[:,1], y_pred)\n",
    "print('accuracy:', accuracy, 'mcc:', mcc)"
   ]
  },
  {
   "cell_type": "code",
   "execution_count": 271,
   "metadata": {},
   "outputs": [
    {
     "data": {
      "text/plain": [
       "['emi/emi_LDA_ANT.joblib']"
      ]
     },
     "execution_count": 271,
     "metadata": {},
     "output_type": "execute_result"
    }
   ],
   "source": [
    "# save both models (provided in github repo as well)\n",
    "dump(lda_OVA, 'emi/emi_LDA_OVA.joblib')\n",
    "dump(lda_ANT, 'emi/emi_LDA_ANT.joblib')"
   ]
  },
  {
   "cell_type": "markdown",
   "metadata": {},
   "source": [
    "# Herceptin"
   ]
  },
  {
   "cell_type": "code",
   "execution_count": 42,
   "metadata": {},
   "outputs": [],
   "source": [
    "df_herceptin_neg = pd.read_csv('herceptin/mHER_H3_AgNeg.csv', index_col=0)\n",
    "df_herceptin_pos = pd.read_csv('herceptin/mHER_H3_AgPos.csv', index_col=0)"
   ]
  },
  {
   "cell_type": "code",
   "execution_count": 43,
   "metadata": {},
   "outputs": [],
   "source": [
    "df_herceptin = df_herceptin_neg.append(df_herceptin_pos).copy()"
   ]
  },
  {
   "cell_type": "code",
   "execution_count": 44,
   "metadata": {},
   "outputs": [],
   "source": [
    "h_chain = 'EVQLVESGGGLVQPGGSLRLSCAASGFNIKDTYIHWVRQAPGKGLEWVARIYPTNGYTRYADSVKGRFTISADTSKNTAYLQMNSLRAEDTAVYYCSRWGGDGFYAMDYWGQGTLVTVS'\n",
    "cdr3 = 'WGGDGFYAMD'"
   ]
  },
  {
   "cell_type": "code",
   "execution_count": 45,
   "metadata": {},
   "outputs": [],
   "source": [
    "full_seq_list = []\n",
    "for seq in df_herceptin.AASeq:\n",
    "    full_seq_list.append(h_chain.replace(cdr3, seq))\n",
    "df_herceptin['full_seq'] = full_seq_list"
   ]
  },
  {
   "cell_type": "code",
   "execution_count": 46,
   "metadata": {},
   "outputs": [
    {
     "data": {
      "text/html": [
       "<div>\n",
       "<style scoped>\n",
       "    .dataframe tbody tr th:only-of-type {\n",
       "        vertical-align: middle;\n",
       "    }\n",
       "\n",
       "    .dataframe tbody tr th {\n",
       "        vertical-align: top;\n",
       "    }\n",
       "\n",
       "    .dataframe thead th {\n",
       "        text-align: right;\n",
       "    }\n",
       "</style>\n",
       "<table border=\"1\" class=\"dataframe\">\n",
       "  <thead>\n",
       "    <tr style=\"text-align: right;\">\n",
       "      <th></th>\n",
       "      <th>Count</th>\n",
       "      <th>Fraction</th>\n",
       "      <th>NucSeq</th>\n",
       "      <th>AASeq</th>\n",
       "      <th>AgClass</th>\n",
       "      <th>full_seq</th>\n",
       "    </tr>\n",
       "  </thead>\n",
       "  <tbody>\n",
       "    <tr>\n",
       "      <th>0</th>\n",
       "      <td>7</td>\n",
       "      <td>0.000007</td>\n",
       "      <td>TGTAGCAGGTACACTATCTGCAGTTTCTACAAGCTCCAGTATTGG</td>\n",
       "      <td>YTICSFYKLQ</td>\n",
       "      <td>0</td>\n",
       "      <td>EVQLVESGGGLVQPGGSLRLSCAASGFNIKDTYIHWVRQAPGKGLE...</td>\n",
       "    </tr>\n",
       "    <tr>\n",
       "      <th>1</th>\n",
       "      <td>95</td>\n",
       "      <td>0.000041</td>\n",
       "      <td>TGTAGCAGGTGGTTCCTCTGCGGCTTCTACCAGAACATGTATTGG</td>\n",
       "      <td>WFLCGFYQNM</td>\n",
       "      <td>0</td>\n",
       "      <td>EVQLVESGGGLVQPGGSLRLSCAASGFNIKDTYIHWVRQAPGKGLE...</td>\n",
       "    </tr>\n",
       "    <tr>\n",
       "      <th>2</th>\n",
       "      <td>3</td>\n",
       "      <td>0.000001</td>\n",
       "      <td>TGTAGCAGGTTCGGCAACATCAGCTCCTTCGCGATCGCGTATTGG</td>\n",
       "      <td>FGNISSFAIA</td>\n",
       "      <td>0</td>\n",
       "      <td>EVQLVESGGGLVQPGGSLRLSCAASGFNIKDTYIHWVRQAPGKGLE...</td>\n",
       "    </tr>\n",
       "    <tr>\n",
       "      <th>3</th>\n",
       "      <td>10</td>\n",
       "      <td>0.000005</td>\n",
       "      <td>TGTAGCAGGTTCAAGGTCAACGGTCTGTTCCCGCACCTCTATTGG</td>\n",
       "      <td>FKVNGLFPHL</td>\n",
       "      <td>0</td>\n",
       "      <td>EVQLVESGGGLVQPGGSLRLSCAASGFNIKDTYIHWVRQAPGKGLE...</td>\n",
       "    </tr>\n",
       "    <tr>\n",
       "      <th>4</th>\n",
       "      <td>16</td>\n",
       "      <td>0.000016</td>\n",
       "      <td>TGTAGCAGGTACACTATCTGCAGTATGTACGAGTTCGATTATTGG</td>\n",
       "      <td>YTICSMYEFD</td>\n",
       "      <td>0</td>\n",
       "      <td>EVQLVESGGGLVQPGGSLRLSCAASGFNIKDTYIHWVRQAPGKGLE...</td>\n",
       "    </tr>\n",
       "  </tbody>\n",
       "</table>\n",
       "</div>"
      ],
      "text/plain": [
       "   Count  Fraction                                         NucSeq       AASeq  \\\n",
       "0      7  0.000007  TGTAGCAGGTACACTATCTGCAGTTTCTACAAGCTCCAGTATTGG  YTICSFYKLQ   \n",
       "1     95  0.000041  TGTAGCAGGTGGTTCCTCTGCGGCTTCTACCAGAACATGTATTGG  WFLCGFYQNM   \n",
       "2      3  0.000001  TGTAGCAGGTTCGGCAACATCAGCTCCTTCGCGATCGCGTATTGG  FGNISSFAIA   \n",
       "3     10  0.000005  TGTAGCAGGTTCAAGGTCAACGGTCTGTTCCCGCACCTCTATTGG  FKVNGLFPHL   \n",
       "4     16  0.000016  TGTAGCAGGTACACTATCTGCAGTATGTACGAGTTCGATTATTGG  YTICSMYEFD   \n",
       "\n",
       "   AgClass                                           full_seq  \n",
       "0        0  EVQLVESGGGLVQPGGSLRLSCAASGFNIKDTYIHWVRQAPGKGLE...  \n",
       "1        0  EVQLVESGGGLVQPGGSLRLSCAASGFNIKDTYIHWVRQAPGKGLE...  \n",
       "2        0  EVQLVESGGGLVQPGGSLRLSCAASGFNIKDTYIHWVRQAPGKGLE...  \n",
       "3        0  EVQLVESGGGLVQPGGSLRLSCAASGFNIKDTYIHWVRQAPGKGLE...  \n",
       "4        0  EVQLVESGGGLVQPGGSLRLSCAASGFNIKDTYIHWVRQAPGKGLE...  "
      ]
     },
     "execution_count": 46,
     "metadata": {},
     "output_type": "execute_result"
    }
   ],
   "source": [
    "df_herceptin.head()"
   ]
  },
  {
   "cell_type": "code",
   "execution_count": 47,
   "metadata": {},
   "outputs": [],
   "source": [
    "df_herceptin['encoded'] = one_hot_encode_sequences(df_herceptin, 'full_seq')\n",
    "df_herceptin['Flattened_Encoded'] = df_herceptin['encoded'].apply(lambda x: x.flatten())"
   ]
  },
  {
   "cell_type": "code",
   "execution_count": 48,
   "metadata": {},
   "outputs": [],
   "source": [
    "# Create a feature matrix X and target vector y\n",
    "X = np.stack(df_herceptin['Flattened_Encoded'].values)\n",
    "y = df_herceptin['AgClass'].values\n",
    "X_train, X_test, y_train, y_test = train_test_split(X, y, test_size=0.1, random_state=RANDOM_STATE)"
   ]
  },
  {
   "cell_type": "code",
   "execution_count": 49,
   "metadata": {},
   "outputs": [],
   "source": [
    "# we randomly oversample the training dataset to balance\n",
    "ros = RandomOverSampler(random_state=RANDOM_STATE)\n",
    "X_train_resampled, y_train_resampled = ros.fit_resample(X_train, y_train)"
   ]
  },
  {
   "cell_type": "code",
   "execution_count": 50,
   "metadata": {},
   "outputs": [
    {
     "data": {
      "text/plain": [
       "LinearDiscriminantAnalysis()"
      ]
     },
     "execution_count": 50,
     "metadata": {},
     "output_type": "execute_result"
    }
   ],
   "source": [
    "lda_herceptin = LinearDiscriminantAnalysis()\n",
    "lda_herceptin.fit(X_train_resampled, y_train_resampled)"
   ]
  },
  {
   "cell_type": "code",
   "execution_count": 51,
   "metadata": {},
   "outputs": [
    {
     "name": "stdout",
     "output_type": "stream",
     "text": [
      "accuracy: 0.7893923789907312 mcc: 0.5677487791517641\n"
     ]
    }
   ],
   "source": [
    "y_pred = lda_herceptin.predict(X_test)\n",
    "accuracy = accuracy_score(y_test, y_pred)\n",
    "mcc = matthews_corrcoef(y_test, y_pred)\n",
    "print('accuracy:', accuracy, 'mcc:', mcc)"
   ]
  },
  {
   "cell_type": "code",
   "execution_count": 77,
   "metadata": {},
   "outputs": [
    {
     "data": {
      "text/plain": [
       "['herceptin/lda_herceptin.joblib']"
      ]
     },
     "execution_count": 77,
     "metadata": {},
     "output_type": "execute_result"
    }
   ],
   "source": [
    "# save the model (file is provided in the github repo as well)\n",
    "dump(lda_herceptin, 'herceptin/lda_herceptin.joblib')"
   ]
  },
  {
   "cell_type": "code",
   "execution_count": null,
   "metadata": {},
   "outputs": [],
   "source": []
  },
  {
   "cell_type": "code",
   "execution_count": null,
   "metadata": {},
   "outputs": [],
   "source": []
  },
  {
   "cell_type": "code",
   "execution_count": null,
   "metadata": {},
   "outputs": [],
   "source": []
  },
  {
   "cell_type": "code",
   "execution_count": null,
   "metadata": {},
   "outputs": [],
   "source": []
  },
  {
   "cell_type": "code",
   "execution_count": null,
   "metadata": {},
   "outputs": [],
   "source": []
  }
 ],
 "metadata": {
  "kernelspec": {
   "display_name": "PyRosetta.notebooks",
   "language": "python",
   "name": "pyrosetta.notebooks"
  },
  "language_info": {
   "codemirror_mode": {
    "name": "ipython",
    "version": 3
   },
   "file_extension": ".py",
   "mimetype": "text/x-python",
   "name": "python",
   "nbconvert_exporter": "python",
   "pygments_lexer": "ipython3",
   "version": "3.7.6"
  }
 },
 "nbformat": 4,
 "nbformat_minor": 5
}
